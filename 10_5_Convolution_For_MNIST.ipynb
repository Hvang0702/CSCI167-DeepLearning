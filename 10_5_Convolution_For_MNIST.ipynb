{
  "nbformat": 4,
  "nbformat_minor": 0,
  "metadata": {
    "colab": {
      "provenance": []
    },
    "kernelspec": {
      "name": "python3",
      "display_name": "Python 3"
    },
    "language_info": {
      "name": "python"
    }
  },
  "cells": [
    {
      "cell_type": "markdown",
      "source": [
        "# **Notebook 10.5: Convolution for MNIST**\n",
        "\n",
        "This notebook builds a proper network for 2D convolution.  It works with the MNIST dataset (figure 15.15a), which was the original classic dataset for classifying images.  The network will take a 28x28 grayscale image and classify it into one of 10 classes representing a digit.\n",
        "\n",
        "The code is adapted from https://nextjournal.com/gkoehler/pytorch-mnist\n",
        "\n",
        "Work through the cells below, running each cell in turn. In various places you will see the words \"TO DO\". Follow the instructions at these places and make predictions about what is going to happen or write code to complete the functions.\n",
        "\n",
        "Contact me at udlbookmail@gmail.com if you find any mistakes or have any suggestions.\n"
      ],
      "metadata": {
        "id": "t9vk9Elugvmi"
      }
    },
    {
      "cell_type": "code",
      "source": [
        "import torch\n",
        "import torchvision\n",
        "import torch.nn as nn\n",
        "import torch.nn.functional as F\n",
        "import torch.optim as optim\n",
        "import matplotlib.pyplot as plt\n",
        "import random"
      ],
      "metadata": {
        "id": "YrXWAH7sUWvU"
      },
      "execution_count": 1,
      "outputs": []
    },
    {
      "cell_type": "code",
      "source": [
        "# Run this once to load the train and test data straight into a dataloader class\n",
        "# that will provide the batches\n",
        "\n",
        "# (It may complain that some files are missing because the files seem to have been\n",
        "# reorganized on the underlying website, but it still seems to work). If everything is working\n",
        "# properly, then the whole notebook should run to the end without further problems\n",
        "# even before you make changes.\n",
        "batch_size_train = 64\n",
        "batch_size_test = 1000\n",
        "\n",
        "# TODO Change this directory to point towards an existing directory\n",
        "myDir = 'C:\\\\Users\\\\Hue\\\\Documents\\\\CodeVisualStudio\\\\CSCI167-DeepLearning'\n",
        "\n",
        "train_loader = torch.utils.data.DataLoader(\n",
        "  torchvision.datasets.MNIST(myDir, train=True, download=True,\n",
        "                             transform=torchvision.transforms.Compose([\n",
        "                               torchvision.transforms.ToTensor(),\n",
        "                               torchvision.transforms.Normalize(\n",
        "                                 (0.1307,), (0.3081,))\n",
        "                             ])),\n",
        "  batch_size=batch_size_train, shuffle=True)\n",
        "\n",
        "test_loader = torch.utils.data.DataLoader(\n",
        "  torchvision.datasets.MNIST(myDir, train=False, download=True,\n",
        "                             transform=torchvision.transforms.Compose([\n",
        "                               torchvision.transforms.ToTensor(),\n",
        "                               torchvision.transforms.Normalize(\n",
        "                                 (0.1307,), (0.3081,))\n",
        "                             ])),\n",
        "  batch_size=batch_size_test, shuffle=True)"
      ],
      "metadata": {
        "id": "wScBGXXFVadm",
        "colab": {
          "base_uri": "https://localhost:8080/"
        },
        "outputId": "aabff072-be6e-40cc-8025-5b1a23b8f2e4"
      },
      "execution_count": 3,
      "outputs": [
        {
          "output_type": "stream",
          "name": "stdout",
          "text": [
            "Downloading http://yann.lecun.com/exdb/mnist/train-images-idx3-ubyte.gz\n",
            "Failed to download (trying next):\n",
            "<urlopen error [SSL: CERTIFICATE_VERIFY_FAILED] certificate verify failed: certificate has expired (_ssl.c:1007)>\n",
            "\n",
            "Downloading https://ossci-datasets.s3.amazonaws.com/mnist/train-images-idx3-ubyte.gz\n",
            "Downloading https://ossci-datasets.s3.amazonaws.com/mnist/train-images-idx3-ubyte.gz to C:\\Users\\Hue\\Documents\\CodeVisualStudio\\CSCI167-DeepLearning/MNIST/raw/train-images-idx3-ubyte.gz\n"
          ]
        },
        {
          "output_type": "stream",
          "name": "stderr",
          "text": [
            "100%|██████████| 9.91M/9.91M [00:00<00:00, 34.7MB/s]\n"
          ]
        },
        {
          "output_type": "stream",
          "name": "stdout",
          "text": [
            "Extracting C:\\Users\\Hue\\Documents\\CodeVisualStudio\\CSCI167-DeepLearning/MNIST/raw/train-images-idx3-ubyte.gz to C:\\Users\\Hue\\Documents\\CodeVisualStudio\\CSCI167-DeepLearning/MNIST/raw\n",
            "\n",
            "Downloading http://yann.lecun.com/exdb/mnist/train-labels-idx1-ubyte.gz\n",
            "Failed to download (trying next):\n",
            "<urlopen error [SSL: CERTIFICATE_VERIFY_FAILED] certificate verify failed: certificate has expired (_ssl.c:1007)>\n",
            "\n",
            "Downloading https://ossci-datasets.s3.amazonaws.com/mnist/train-labels-idx1-ubyte.gz\n",
            "Downloading https://ossci-datasets.s3.amazonaws.com/mnist/train-labels-idx1-ubyte.gz to C:\\Users\\Hue\\Documents\\CodeVisualStudio\\CSCI167-DeepLearning/MNIST/raw/train-labels-idx1-ubyte.gz\n"
          ]
        },
        {
          "output_type": "stream",
          "name": "stderr",
          "text": [
            "100%|██████████| 28.9k/28.9k [00:00<00:00, 1.49MB/s]"
          ]
        },
        {
          "output_type": "stream",
          "name": "stdout",
          "text": [
            "Extracting C:\\Users\\Hue\\Documents\\CodeVisualStudio\\CSCI167-DeepLearning/MNIST/raw/train-labels-idx1-ubyte.gz to C:\\Users\\Hue\\Documents\\CodeVisualStudio\\CSCI167-DeepLearning/MNIST/raw\n",
            "\n",
            "Downloading http://yann.lecun.com/exdb/mnist/t10k-images-idx3-ubyte.gz\n"
          ]
        },
        {
          "output_type": "stream",
          "name": "stderr",
          "text": [
            "\n"
          ]
        },
        {
          "output_type": "stream",
          "name": "stdout",
          "text": [
            "Failed to download (trying next):\n",
            "<urlopen error [SSL: CERTIFICATE_VERIFY_FAILED] certificate verify failed: certificate has expired (_ssl.c:1007)>\n",
            "\n",
            "Downloading https://ossci-datasets.s3.amazonaws.com/mnist/t10k-images-idx3-ubyte.gz\n",
            "Downloading https://ossci-datasets.s3.amazonaws.com/mnist/t10k-images-idx3-ubyte.gz to C:\\Users\\Hue\\Documents\\CodeVisualStudio\\CSCI167-DeepLearning/MNIST/raw/t10k-images-idx3-ubyte.gz\n"
          ]
        },
        {
          "output_type": "stream",
          "name": "stderr",
          "text": [
            "100%|██████████| 1.65M/1.65M [00:00<00:00, 9.61MB/s]\n"
          ]
        },
        {
          "output_type": "stream",
          "name": "stdout",
          "text": [
            "Extracting C:\\Users\\Hue\\Documents\\CodeVisualStudio\\CSCI167-DeepLearning/MNIST/raw/t10k-images-idx3-ubyte.gz to C:\\Users\\Hue\\Documents\\CodeVisualStudio\\CSCI167-DeepLearning/MNIST/raw\n",
            "\n",
            "Downloading http://yann.lecun.com/exdb/mnist/t10k-labels-idx1-ubyte.gz\n",
            "Failed to download (trying next):\n",
            "<urlopen error [SSL: CERTIFICATE_VERIFY_FAILED] certificate verify failed: certificate has expired (_ssl.c:1007)>\n",
            "\n",
            "Downloading https://ossci-datasets.s3.amazonaws.com/mnist/t10k-labels-idx1-ubyte.gz\n",
            "Downloading https://ossci-datasets.s3.amazonaws.com/mnist/t10k-labels-idx1-ubyte.gz to C:\\Users\\Hue\\Documents\\CodeVisualStudio\\CSCI167-DeepLearning/MNIST/raw/t10k-labels-idx1-ubyte.gz\n"
          ]
        },
        {
          "output_type": "stream",
          "name": "stderr",
          "text": [
            "100%|██████████| 4.54k/4.54k [00:00<00:00, 7.93MB/s]"
          ]
        },
        {
          "output_type": "stream",
          "name": "stdout",
          "text": [
            "Extracting C:\\Users\\Hue\\Documents\\CodeVisualStudio\\CSCI167-DeepLearning/MNIST/raw/t10k-labels-idx1-ubyte.gz to C:\\Users\\Hue\\Documents\\CodeVisualStudio\\CSCI167-DeepLearning/MNIST/raw\n",
            "\n"
          ]
        },
        {
          "output_type": "stream",
          "name": "stderr",
          "text": [
            "\n"
          ]
        }
      ]
    },
    {
      "cell_type": "code",
      "source": [
        "# Let's draw some of the training data\n",
        "examples = enumerate(test_loader)\n",
        "batch_idx, (example_data, example_targets) = next(examples)\n",
        "\n",
        "fig = plt.figure()\n",
        "for i in range(6):\n",
        "  plt.subplot(2,3,i+1)\n",
        "  plt.tight_layout()\n",
        "  plt.imshow(example_data[i][0], cmap='gray', interpolation='none')\n",
        "  plt.title(\"Ground Truth: {}\".format(example_targets[i]))\n",
        "  plt.xticks([])\n",
        "  plt.yticks([])\n",
        "plt.show()"
      ],
      "metadata": {
        "id": "8bKADvLHbiV5",
        "colab": {
          "base_uri": "https://localhost:8080/",
          "height": 438
        },
        "outputId": "5938c95a-13d6-461a-b1a0-3d86f19a79da"
      },
      "execution_count": 4,
      "outputs": [
        {
          "output_type": "display_data",
          "data": {
            "text/plain": [
              "<Figure size 640x480 with 6 Axes>"
            ],
            "image/png": "[encoded data removed]"
          },
          "metadata": {}
        }
      ]
    },
    {
      "cell_type": "markdown",
      "source": [
        "Define the network.  This is a more typical way to define a network than the sequential structure.  We define a class for the network, and define the parameters in the constructor.  Then we use a function called forward to actually run the network.  It's easy to see how you might use residual connections in this format."
      ],
      "metadata": {
        "id": "_sFvRDGrl4qe"
      }
    },
    {
      "cell_type": "code",
      "source": [
        "from os import X_OK\n",
        "# TODO Change this class to implement\n",
        "# 1. A valid convolution with kernel size 5, 1 input channel and 10 output channels\n",
        "# 2. A max pooling operation over a 2x2 area\n",
        "# 3. A Relu\n",
        "# 4. A valid convolution with kernel size 5, 10 input channels and 20 output channels\n",
        "# 5. A 2D Dropout layer\n",
        "# 6. A max pooling operation over a 2x2 area\n",
        "# 7. A relu\n",
        "# 8. A flattening operation\n",
        "# 9. A fully connected layer mapping from (whatever dimensions we are at-- find out using .shape) to 50\n",
        "# 10. A ReLU\n",
        "# 11. A fully connected layer mapping from 50 to 10 dimensions\n",
        "# 12. A softmax function.\n",
        "\n",
        "# Replace this class which implements a minimal network (which still does okay)\n",
        "class Net(nn.Module):\n",
        "    def __init__(self):\n",
        "        super(Net, self).__init__()\n",
        "        # 1. First convolution: 1 input channel, 10 output channels, kernel size 5\n",
        "        self.conv1 = nn.Conv2d(1, 10, kernel_size=5)\n",
        "\n",
        "        # 2. Max pooling operation over a 2x2 area\n",
        "        # Pooling will be applied in forward pass\n",
        "\n",
        "        # 4. Second convolution: 10 input channels, 20 output channels, kernel size 5\n",
        "        self.conv2 = nn.Conv2d(10, 20, kernel_size=5)\n",
        "\n",
        "        # 5. 2D Dropout layer\n",
        "        self.drop = nn.Dropout2d()\n",
        "\n",
        "        # Flattened size: 20 channels * 4 * 4 = 320\n",
        "        self.fc1 = nn.Linear(320, 50)  # 9. Fully connected layer mapping to 50\n",
        "\n",
        "        # 11. Fully connected layer mapping from 50 to 10 dimensions (for 10 output classes)\n",
        "        self.fc2 = nn.Linear(50, 10)\n",
        "\n",
        "    def forward(self, x):\n",
        "        # 1. First convolution layer followed by ReLU\n",
        "        x = F.relu(self.conv1(x))\n",
        "\n",
        "        # 2. Max pooling operation over 2x2\n",
        "        x = F.max_pool2d(x, 2)\n",
        "\n",
        "        # 4. Second convolution layer followed by ReLU\n",
        "        x = F.relu(self.conv2(x))\n",
        "\n",
        "        # 6. Second max pooling operation over 2x2\n",
        "        x = F.max_pool2d(x, 2)\n",
        "\n",
        "        # 5. Apply dropout\n",
        "        x = self.drop(x)\n",
        "\n",
        "        # 8. Flatten the tensor for the fully connected layer\n",
        "        x = x.view(-1, 320)\n",
        "\n",
        "        # 9. First fully connected layer followed by ReLU\n",
        "        x = F.relu(self.fc1(x))\n",
        "\n",
        "        # 11. Second fully connected layer\n",
        "        x = self.fc2(x)\n",
        "\n",
        "        # 12. Softmax function to get probabilities\n",
        "        x = F.log_softmax(x, dim=1)\n",
        "\n",
        "        return x\n",
        "\n",
        "\n",
        "\n",
        "\n"
      ],
      "metadata": {
        "id": "EQkvw2KOPVl7"
      },
      "execution_count": 5,
      "outputs": []
    },
    {
      "cell_type": "code",
      "source": [
        "# He initialization of weights\n",
        "def weights_init(layer_in):\n",
        "  if isinstance(layer_in, nn.Linear):\n",
        "    nn.init.kaiming_uniform_(layer_in.weight)\n",
        "    layer_in.bias.data.fill_(0.0)"
      ],
      "metadata": {
        "id": "qWZtkCZcU_dg"
      },
      "execution_count": 6,
      "outputs": []
    },
    {
      "cell_type": "code",
      "source": [
        "# Create network\n",
        "model = Net()\n",
        "# Initialize model weights\n",
        "model.apply(weights_init)\n",
        "# Define optimizer\n",
        "optimizer = optim.SGD(model.parameters(), lr=0.01, momentum=0.5)"
      ],
      "metadata": {
        "id": "FslroPJJffrh"
      },
      "execution_count": 7,
      "outputs": []
    },
    {
      "cell_type": "code",
      "source": [
        "# Main training routine\n",
        "def train(epoch):\n",
        "  model.train()\n",
        "  # Get each\n",
        "  for batch_idx, (data, target) in enumerate(train_loader):\n",
        "    optimizer.zero_grad()\n",
        "    output = model(data)\n",
        "    loss = F.nll_loss(output, target)\n",
        "    loss.backward()\n",
        "    optimizer.step()\n",
        "    # Store results\n",
        "    if batch_idx % 10 == 0:\n",
        "      print('Train Epoch: {} [{}/{}]\\tLoss: {:.6f}'.format(\n",
        "        epoch, batch_idx * len(data), len(train_loader.dataset), loss.item()))"
      ],
      "metadata": {
        "id": "xKQd9PzkQ766"
      },
      "execution_count": 13,
      "outputs": []
    },
    {
      "cell_type": "code",
      "source": [
        "# Get initial performance\n",
        "test()\n",
        "# Train for three epochs\n",
        "n_epochs = 3\n",
        "for epoch in range(1, n_epochs + 1):\n",
        "  train(epoch)\n",
        "  test()"
      ],
      "metadata": {
        "id": "YgLaex1pfhqz",
        "colab": {
          "base_uri": "https://localhost:8080/"
        },
        "outputId": "2f0920b3-83fc-4895-8e0d-cec8db338bf7"
      },
      "execution_count": 10,
      "outputs": [
        {
          "output_type": "stream",
          "name": "stderr",
          "text": [
            "/usr/local/lib/python3.10/dist-packages/torch/nn/_reduction.py:51: UserWarning: size_average and reduce args will be deprecated, please use reduction='sum' instead.\n",
            "  warnings.warn(warning.format(ret))\n"
          ]
        },
        {
          "output_type": "stream",
          "name": "stdout",
          "text": [
            "\n",
            "Test set: Avg. loss: 2.3388, Accuracy: 1099/10000 (11%)\n",
            "\n",
            "Train Epoch: 1 [0/60000]\tLoss: 2.454150\n",
            "Train Epoch: 1 [640/60000]\tLoss: 2.166127\n",
            "Train Epoch: 1 [1280/60000]\tLoss: 2.053297\n",
            "Train Epoch: 1 [1920/60000]\tLoss: 1.907580\n",
            "Train Epoch: 1 [2560/60000]\tLoss: 1.727159\n",
            "Train Epoch: 1 [3200/60000]\tLoss: 1.651211\n",
            "Train Epoch: 1 [3840/60000]\tLoss: 1.399037\n",
            "Train Epoch: 1 [4480/60000]\tLoss: 1.106582\n",
            "Train Epoch: 1 [5120/60000]\tLoss: 0.908632\n",
            "Train Epoch: 1 [5760/60000]\tLoss: 1.012293\n",
            "Train Epoch: 1 [6400/60000]\tLoss: 1.033450\n",
            "Train Epoch: 1 [7040/60000]\tLoss: 0.901807\n",
            "Train Epoch: 1 [7680/60000]\tLoss: 0.613008\n",
            "Train Epoch: 1 [8320/60000]\tLoss: 0.820209\n",
            "Train Epoch: 1 [8960/60000]\tLoss: 0.656944\n",
            "Train Epoch: 1 [9600/60000]\tLoss: 0.569109\n",
            "Train Epoch: 1 [10240/60000]\tLoss: 0.595937\n",
            "Train Epoch: 1 [10880/60000]\tLoss: 0.681097\n",
            "Train Epoch: 1 [11520/60000]\tLoss: 0.466507\n",
            "Train Epoch: 1 [12160/60000]\tLoss: 0.597989\n",
            "Train Epoch: 1 [12800/60000]\tLoss: 0.595054\n",
            "Train Epoch: 1 [13440/60000]\tLoss: 0.607318\n",
            "Train Epoch: 1 [14080/60000]\tLoss: 0.509894\n",
            "Train Epoch: 1 [14720/60000]\tLoss: 0.454769\n",
            "Train Epoch: 1 [15360/60000]\tLoss: 0.397083\n",
            "Train Epoch: 1 [16000/60000]\tLoss: 0.716851\n",
            "Train Epoch: 1 [16640/60000]\tLoss: 0.623390\n",
            "Train Epoch: 1 [17280/60000]\tLoss: 0.538931\n",
            "Train Epoch: 1 [17920/60000]\tLoss: 0.350539\n",
            "Train Epoch: 1 [18560/60000]\tLoss: 0.735178\n",
            "Train Epoch: 1 [19200/60000]\tLoss: 0.395558\n",
            "Train Epoch: 1 [19840/60000]\tLoss: 0.581127\n",
            "Train Epoch: 1 [20480/60000]\tLoss: 0.441677\n",
            "Train Epoch: 1 [21120/60000]\tLoss: 0.382565\n",
            "Train Epoch: 1 [21760/60000]\tLoss: 0.343357\n",
            "Train Epoch: 1 [22400/60000]\tLoss: 0.473056\n",
            "Train Epoch: 1 [23040/60000]\tLoss: 0.396136\n",
            "Train Epoch: 1 [23680/60000]\tLoss: 0.510056\n",
            "Train Epoch: 1 [24320/60000]\tLoss: 0.313163\n",
            "Train Epoch: 1 [24960/60000]\tLoss: 0.276991\n",
            "Train Epoch: 1 [25600/60000]\tLoss: 0.320825\n",
            "Train Epoch: 1 [26240/60000]\tLoss: 0.226717\n",
            "Train Epoch: 1 [26880/60000]\tLoss: 0.432792\n",
            "Train Epoch: 1 [27520/60000]\tLoss: 0.287591\n",
            "Train Epoch: 1 [28160/60000]\tLoss: 0.316146\n",
            "Train Epoch: 1 [28800/60000]\tLoss: 0.380798\n",
            "Train Epoch: 1 [29440/60000]\tLoss: 0.344883\n",
            "Train Epoch: 1 [30080/60000]\tLoss: 0.334849\n",
            "Train Epoch: 1 [30720/60000]\tLoss: 0.371814\n",
            "Train Epoch: 1 [31360/60000]\tLoss: 0.218084\n",
            "Train Epoch: 1 [32000/60000]\tLoss: 0.375272\n",
            "Train Epoch: 1 [32640/60000]\tLoss: 0.305518\n",
            "Train Epoch: 1 [33280/60000]\tLoss: 0.177345\n",
            "Train Epoch: 1 [33920/60000]\tLoss: 0.323540\n",
            "Train Epoch: 1 [34560/60000]\tLoss: 0.282950\n",
            "Train Epoch: 1 [35200/60000]\tLoss: 0.307606\n",
            "Train Epoch: 1 [35840/60000]\tLoss: 0.258414\n",
            "Train Epoch: 1 [36480/60000]\tLoss: 0.385475\n",
            "Train Epoch: 1 [37120/60000]\tLoss: 0.537988\n",
            "Train Epoch: 1 [37760/60000]\tLoss: 0.263809\n",
            "Train Epoch: 1 [38400/60000]\tLoss: 0.300418\n",
            "Train Epoch: 1 [39040/60000]\tLoss: 0.294445\n",
            "Train Epoch: 1 [39680/60000]\tLoss: 0.407147\n",
            "Train Epoch: 1 [40320/60000]\tLoss: 0.371207\n",
            "Train Epoch: 1 [40960/60000]\tLoss: 0.205143\n",
            "Train Epoch: 1 [41600/60000]\tLoss: 0.190865\n",
            "Train Epoch: 1 [42240/60000]\tLoss: 0.131822\n",
            "Train Epoch: 1 [42880/60000]\tLoss: 0.191553\n",
            "Train Epoch: 1 [43520/60000]\tLoss: 0.393462\n",
            "Train Epoch: 1 [44160/60000]\tLoss: 0.646652\n",
            "Train Epoch: 1 [44800/60000]\tLoss: 0.107483\n",
            "Train Epoch: 1 [45440/60000]\tLoss: 0.452197\n",
            "Train Epoch: 1 [46080/60000]\tLoss: 0.387932\n",
            "Train Epoch: 1 [46720/60000]\tLoss: 0.252752\n",
            "Train Epoch: 1 [47360/60000]\tLoss: 0.262377\n",
            "Train Epoch: 1 [48000/60000]\tLoss: 0.403586\n",
            "Train Epoch: 1 [48640/60000]\tLoss: 0.315238\n",
            "Train Epoch: 1 [49280/60000]\tLoss: 0.278134\n",
            "Train Epoch: 1 [49920/60000]\tLoss: 0.278035\n",
            "Train Epoch: 1 [50560/60000]\tLoss: 0.098096\n",
            "Train Epoch: 1 [51200/60000]\tLoss: 0.213084\n",
            "Train Epoch: 1 [51840/60000]\tLoss: 0.338579\n",
            "Train Epoch: 1 [52480/60000]\tLoss: 0.251300\n",
            "Train Epoch: 1 [53120/60000]\tLoss: 0.224428\n",
            "Train Epoch: 1 [53760/60000]\tLoss: 0.213823\n",
            "Train Epoch: 1 [54400/60000]\tLoss: 0.446678\n",
            "Train Epoch: 1 [55040/60000]\tLoss: 0.385373\n",
            "Train Epoch: 1 [55680/60000]\tLoss: 0.353206\n",
            "Train Epoch: 1 [56320/60000]\tLoss: 0.298832\n",
            "Train Epoch: 1 [56960/60000]\tLoss: 0.141828\n",
            "Train Epoch: 1 [57600/60000]\tLoss: 0.212263\n",
            "Train Epoch: 1 [58240/60000]\tLoss: 0.300452\n",
            "Train Epoch: 1 [58880/60000]\tLoss: 0.119222\n",
            "Train Epoch: 1 [59520/60000]\tLoss: 0.523451\n",
            "\n",
            "Test set: Avg. loss: 0.1215, Accuracy: 9639/10000 (96%)\n",
            "\n",
            "Train Epoch: 2 [0/60000]\tLoss: 0.474082\n",
            "Train Epoch: 2 [640/60000]\tLoss: 0.105570\n",
            "Train Epoch: 2 [1280/60000]\tLoss: 0.172482\n",
            "Train Epoch: 2 [1920/60000]\tLoss: 0.339212\n",
            "Train Epoch: 2 [2560/60000]\tLoss: 0.196140\n",
            "Train Epoch: 2 [3200/60000]\tLoss: 0.169380\n",
            "Train Epoch: 2 [3840/60000]\tLoss: 0.204021\n",
            "Train Epoch: 2 [4480/60000]\tLoss: 0.170359\n",
            "Train Epoch: 2 [5120/60000]\tLoss: 0.301038\n",
            "Train Epoch: 2 [5760/60000]\tLoss: 0.076474\n",
            "Train Epoch: 2 [6400/60000]\tLoss: 0.203123\n",
            "Train Epoch: 2 [7040/60000]\tLoss: 0.191251\n",
            "Train Epoch: 2 [7680/60000]\tLoss: 0.126807\n",
            "Train Epoch: 2 [8320/60000]\tLoss: 0.152218\n",
            "Train Epoch: 2 [8960/60000]\tLoss: 0.132365\n",
            "Train Epoch: 2 [9600/60000]\tLoss: 0.296811\n",
            "Train Epoch: 2 [10240/60000]\tLoss: 0.421923\n",
            "Train Epoch: 2 [10880/60000]\tLoss: 0.143493\n",
            "Train Epoch: 2 [11520/60000]\tLoss: 0.230699\n",
            "Train Epoch: 2 [12160/60000]\tLoss: 0.232948\n",
            "Train Epoch: 2 [12800/60000]\tLoss: 0.148231\n",
            "Train Epoch: 2 [13440/60000]\tLoss: 0.148287\n",
            "Train Epoch: 2 [14080/60000]\tLoss: 0.382985\n",
            "Train Epoch: 2 [14720/60000]\tLoss: 0.288603\n",
            "Train Epoch: 2 [15360/60000]\tLoss: 0.168516\n",
            "Train Epoch: 2 [16000/60000]\tLoss: 0.348505\n",
            "Train Epoch: 2 [16640/60000]\tLoss: 0.225156\n",
            "Train Epoch: 2 [17280/60000]\tLoss: 0.206705\n",
            "Train Epoch: 2 [17920/60000]\tLoss: 0.182016\n",
            "Train Epoch: 2 [18560/60000]\tLoss: 0.142999\n",
            "Train Epoch: 2 [19200/60000]\tLoss: 0.075429\n",
            "Train Epoch: 2 [19840/60000]\tLoss: 0.192455\n",
            "Train Epoch: 2 [20480/60000]\tLoss: 0.149449\n",
            "Train Epoch: 2 [21120/60000]\tLoss: 0.070632\n",
            "Train Epoch: 2 [21760/60000]\tLoss: 0.195724\n",
            "Train Epoch: 2 [22400/60000]\tLoss: 0.280832\n",
            "Train Epoch: 2 [23040/60000]\tLoss: 0.148645\n",
            "Train Epoch: 2 [23680/60000]\tLoss: 0.087488\n",
            "Train Epoch: 2 [24320/60000]\tLoss: 0.401297\n",
            "Train Epoch: 2 [24960/60000]\tLoss: 0.164511\n",
            "Train Epoch: 2 [25600/60000]\tLoss: 0.161803\n",
            "Train Epoch: 2 [26240/60000]\tLoss: 0.082861\n",
            "Train Epoch: 2 [26880/60000]\tLoss: 0.221269\n",
            "Train Epoch: 2 [27520/60000]\tLoss: 0.253130\n",
            "Train Epoch: 2 [28160/60000]\tLoss: 0.332757\n",
            "Train Epoch: 2 [28800/60000]\tLoss: 0.190660\n",
            "Train Epoch: 2 [29440/60000]\tLoss: 0.041363\n",
            "Train Epoch: 2 [30080/60000]\tLoss: 0.158552\n",
            "Train Epoch: 2 [30720/60000]\tLoss: 0.211366\n",
            "Train Epoch: 2 [31360/60000]\tLoss: 0.137703\n",
            "Train Epoch: 2 [32000/60000]\tLoss: 0.237989\n",
            "Train Epoch: 2 [32640/60000]\tLoss: 0.219757\n",
            "Train Epoch: 2 [33280/60000]\tLoss: 0.115245\n",
            "Train Epoch: 2 [33920/60000]\tLoss: 0.119637\n",
            "Train Epoch: 2 [34560/60000]\tLoss: 0.162847\n",
            "Train Epoch: 2 [35200/60000]\tLoss: 0.155797\n",
            "Train Epoch: 2 [35840/60000]\tLoss: 0.248131\n",
            "Train Epoch: 2 [36480/60000]\tLoss: 0.160181\n",
            "Train Epoch: 2 [37120/60000]\tLoss: 0.045672\n",
            "Train Epoch: 2 [37760/60000]\tLoss: 0.097630\n",
            "Train Epoch: 2 [38400/60000]\tLoss: 0.109825\n",
            "Train Epoch: 2 [39040/60000]\tLoss: 0.275275\n",
            "Train Epoch: 2 [39680/60000]\tLoss: 0.059032\n",
            "Train Epoch: 2 [40320/60000]\tLoss: 0.193070\n",
            "Train Epoch: 2 [40960/60000]\tLoss: 0.141805\n",
            "Train Epoch: 2 [41600/60000]\tLoss: 0.390600\n",
            "Train Epoch: 2 [42240/60000]\tLoss: 0.083524\n",
            "Train Epoch: 2 [42880/60000]\tLoss: 0.219202\n",
            "Train Epoch: 2 [43520/60000]\tLoss: 0.331170\n",
            "Train Epoch: 2 [44160/60000]\tLoss: 0.303584\n",
            "Train Epoch: 2 [44800/60000]\tLoss: 0.095909\n",
            "Train Epoch: 2 [45440/60000]\tLoss: 0.083794\n",
            "Train Epoch: 2 [46080/60000]\tLoss: 0.143731\n",
            "Train Epoch: 2 [46720/60000]\tLoss: 0.216665\n",
            "Train Epoch: 2 [47360/60000]\tLoss: 0.355198\n",
            "Train Epoch: 2 [48000/60000]\tLoss: 0.129766\n",
            "Train Epoch: 2 [48640/60000]\tLoss: 0.191293\n",
            "Train Epoch: 2 [49280/60000]\tLoss: 0.046113\n",
            "Train Epoch: 2 [49920/60000]\tLoss: 0.209001\n",
            "Train Epoch: 2 [50560/60000]\tLoss: 0.102877\n",
            "Train Epoch: 2 [51200/60000]\tLoss: 0.054046\n",
            "Train Epoch: 2 [51840/60000]\tLoss: 0.048349\n",
            "Train Epoch: 2 [52480/60000]\tLoss: 0.110796\n",
            "Train Epoch: 2 [53120/60000]\tLoss: 0.059991\n",
            "Train Epoch: 2 [53760/60000]\tLoss: 0.223258\n",
            "Train Epoch: 2 [54400/60000]\tLoss: 0.119128\n",
            "Train Epoch: 2 [55040/60000]\tLoss: 0.376269\n",
            "Train Epoch: 2 [55680/60000]\tLoss: 0.133784\n",
            "Train Epoch: 2 [56320/60000]\tLoss: 0.273454\n",
            "Train Epoch: 2 [56960/60000]\tLoss: 0.352268\n",
            "Train Epoch: 2 [57600/60000]\tLoss: 0.101929\n",
            "Train Epoch: 2 [58240/60000]\tLoss: 0.134795\n",
            "Train Epoch: 2 [58880/60000]\tLoss: 0.269021\n",
            "Train Epoch: 2 [59520/60000]\tLoss: 0.179343\n",
            "\n",
            "Test set: Avg. loss: 0.0958, Accuracy: 9706/10000 (97%)\n",
            "\n",
            "Train Epoch: 3 [0/60000]\tLoss: 0.132293\n",
            "Train Epoch: 3 [640/60000]\tLoss: 0.215913\n",
            "Train Epoch: 3 [1280/60000]\tLoss: 0.327623\n",
            "Train Epoch: 3 [1920/60000]\tLoss: 0.125941\n",
            "Train Epoch: 3 [2560/60000]\tLoss: 0.188766\n",
            "Train Epoch: 3 [3200/60000]\tLoss: 0.276141\n",
            "Train Epoch: 3 [3840/60000]\tLoss: 0.191399\n",
            "Train Epoch: 3 [4480/60000]\tLoss: 0.057893\n",
            "Train Epoch: 3 [5120/60000]\tLoss: 0.069163\n",
            "Train Epoch: 3 [5760/60000]\tLoss: 0.108379\n",
            "Train Epoch: 3 [6400/60000]\tLoss: 0.139510\n",
            "Train Epoch: 3 [7040/60000]\tLoss: 0.130088\n",
            "Train Epoch: 3 [7680/60000]\tLoss: 0.101696\n",
            "Train Epoch: 3 [8320/60000]\tLoss: 0.143146\n",
            "Train Epoch: 3 [8960/60000]\tLoss: 0.160143\n",
            "Train Epoch: 3 [9600/60000]\tLoss: 0.260079\n",
            "Train Epoch: 3 [10240/60000]\tLoss: 0.132311\n",
            "Train Epoch: 3 [10880/60000]\tLoss: 0.096141\n",
            "Train Epoch: 3 [11520/60000]\tLoss: 0.136369\n",
            "Train Epoch: 3 [12160/60000]\tLoss: 0.145764\n",
            "Train Epoch: 3 [12800/60000]\tLoss: 0.177477\n",
            "Train Epoch: 3 [13440/60000]\tLoss: 0.200307\n",
            "Train Epoch: 3 [14080/60000]\tLoss: 0.192980\n",
            "Train Epoch: 3 [14720/60000]\tLoss: 0.040647\n",
            "Train Epoch: 3 [15360/60000]\tLoss: 0.195871\n",
            "Train Epoch: 3 [16000/60000]\tLoss: 0.168917\n",
            "Train Epoch: 3 [16640/60000]\tLoss: 0.206557\n",
            "Train Epoch: 3 [17280/60000]\tLoss: 0.142908\n",
            "Train Epoch: 3 [17920/60000]\tLoss: 0.057608\n",
            "Train Epoch: 3 [18560/60000]\tLoss: 0.160556\n",
            "Train Epoch: 3 [19200/60000]\tLoss: 0.213940\n",
            "Train Epoch: 3 [19840/60000]\tLoss: 0.148406\n",
            "Train Epoch: 3 [20480/60000]\tLoss: 0.084900\n",
            "Train Epoch: 3 [21120/60000]\tLoss: 0.393632\n",
            "Train Epoch: 3 [21760/60000]\tLoss: 0.289344\n",
            "Train Epoch: 3 [22400/60000]\tLoss: 0.156052\n",
            "Train Epoch: 3 [23040/60000]\tLoss: 0.140504\n",
            "Train Epoch: 3 [23680/60000]\tLoss: 0.141418\n",
            "Train Epoch: 3 [24320/60000]\tLoss: 0.141081\n",
            "Train Epoch: 3 [24960/60000]\tLoss: 0.091120\n",
            "Train Epoch: 3 [25600/60000]\tLoss: 0.212340\n",
            "Train Epoch: 3 [26240/60000]\tLoss: 0.380645\n",
            "Train Epoch: 3 [26880/60000]\tLoss: 0.298208\n",
            "Train Epoch: 3 [27520/60000]\tLoss: 0.096973\n",
            "Train Epoch: 3 [28160/60000]\tLoss: 0.114801\n",
            "Train Epoch: 3 [28800/60000]\tLoss: 0.338541\n",
            "Train Epoch: 3 [29440/60000]\tLoss: 0.070571\n",
            "Train Epoch: 3 [30080/60000]\tLoss: 0.066250\n",
            "Train Epoch: 3 [30720/60000]\tLoss: 0.254499\n",
            "Train Epoch: 3 [31360/60000]\tLoss: 0.135052\n",
            "Train Epoch: 3 [32000/60000]\tLoss: 0.179256\n",
            "Train Epoch: 3 [32640/60000]\tLoss: 0.269040\n",
            "Train Epoch: 3 [33280/60000]\tLoss: 0.091603\n",
            "Train Epoch: 3 [33920/60000]\tLoss: 0.186013\n",
            "Train Epoch: 3 [34560/60000]\tLoss: 0.113499\n",
            "Train Epoch: 3 [35200/60000]\tLoss: 0.105763\n",
            "Train Epoch: 3 [35840/60000]\tLoss: 0.084712\n",
            "Train Epoch: 3 [36480/60000]\tLoss: 0.299090\n",
            "Train Epoch: 3 [37120/60000]\tLoss: 0.209710\n",
            "Train Epoch: 3 [37760/60000]\tLoss: 0.124578\n",
            "Train Epoch: 3 [38400/60000]\tLoss: 0.086416\n",
            "Train Epoch: 3 [39040/60000]\tLoss: 0.239845\n",
            "Train Epoch: 3 [39680/60000]\tLoss: 0.029827\n",
            "Train Epoch: 3 [40320/60000]\tLoss: 0.085965\n",
            "Train Epoch: 3 [40960/60000]\tLoss: 0.235214\n",
            "Train Epoch: 3 [41600/60000]\tLoss: 0.235072\n",
            "Train Epoch: 3 [42240/60000]\tLoss: 0.130086\n",
            "Train Epoch: 3 [42880/60000]\tLoss: 0.065159\n",
            "Train Epoch: 3 [43520/60000]\tLoss: 0.152334\n",
            "Train Epoch: 3 [44160/60000]\tLoss: 0.167891\n",
            "Train Epoch: 3 [44800/60000]\tLoss: 0.206777\n",
            "Train Epoch: 3 [45440/60000]\tLoss: 0.077085\n",
            "Train Epoch: 3 [46080/60000]\tLoss: 0.258145\n",
            "Train Epoch: 3 [46720/60000]\tLoss: 0.058501\n",
            "Train Epoch: 3 [47360/60000]\tLoss: 0.055063\n",
            "Train Epoch: 3 [48000/60000]\tLoss: 0.173152\n",
            "Train Epoch: 3 [48640/60000]\tLoss: 0.057216\n",
            "Train Epoch: 3 [49280/60000]\tLoss: 0.091773\n",
            "Train Epoch: 3 [49920/60000]\tLoss: 0.131725\n",
            "Train Epoch: 3 [50560/60000]\tLoss: 0.204384\n",
            "Train Epoch: 3 [51200/60000]\tLoss: 0.119320\n",
            "Train Epoch: 3 [51840/60000]\tLoss: 0.135006\n",
            "Train Epoch: 3 [52480/60000]\tLoss: 0.113566\n",
            "Train Epoch: 3 [53120/60000]\tLoss: 0.165011\n",
            "Train Epoch: 3 [53760/60000]\tLoss: 0.226498\n",
            "Train Epoch: 3 [54400/60000]\tLoss: 0.068513\n",
            "Train Epoch: 3 [55040/60000]\tLoss: 0.119522\n",
            "Train Epoch: 3 [55680/60000]\tLoss: 0.096264\n",
            "Train Epoch: 3 [56320/60000]\tLoss: 0.140576\n",
            "Train Epoch: 3 [56960/60000]\tLoss: 0.107975\n",
            "Train Epoch: 3 [57600/60000]\tLoss: 0.100722\n",
            "Train Epoch: 3 [58240/60000]\tLoss: 0.013147\n",
            "Train Epoch: 3 [58880/60000]\tLoss: 0.197450\n",
            "Train Epoch: 3 [59520/60000]\tLoss: 0.154623\n",
            "\n",
            "Test set: Avg. loss: 0.0753, Accuracy: 9761/10000 (98%)\n",
            "\n"
          ]
        }
      ]
    },
    {
      "cell_type": "code",
      "source": [
        "# Run on test data\n",
        "def test():\n",
        "  model.eval()\n",
        "  test_loss = 0\n",
        "  correct = 0\n",
        "  with torch.no_grad():\n",
        "    for data, target in test_loader:\n",
        "      output = model(data)\n",
        "      test_loss += F.nll_loss(output, target, size_average=False).item()\n",
        "      pred = output.data.max(1, keepdim=True)[1]\n",
        "      correct += pred.eq(target.data.view_as(pred)).sum()\n",
        "  test_loss /= len(test_loader.dataset)\n",
        "  print('\\nTest set: Avg. loss: {:.4f}, Accuracy: {}/{} ({:.0f}%)\\n'.format(\n",
        "    test_loss, correct, len(test_loader.dataset),\n",
        "    100. * correct / len(test_loader.dataset)))"
      ],
      "metadata": {
        "id": "Byn-f7qWRLxX"
      },
      "execution_count": 11,
      "outputs": []
    },
    {
      "cell_type": "code",
      "source": [
        "# Run network on data we got before and show predictions\n",
        "output = model(example_data)\n",
        "\n",
        "fig = plt.figure()\n",
        "for i in range(10):\n",
        "  plt.subplot(5,5,i+1)\n",
        "  plt.tight_layout()\n",
        "  plt.imshow(example_data[i][0], cmap='gray', interpolation='none')\n",
        "  plt.title(\"Prediction: {}\".format(\n",
        "    output.data.max(1, keepdim=True)[1][i].item()))\n",
        "  plt.xticks([])\n",
        "  plt.yticks([])\n",
        "plt.show()"
      ],
      "metadata": {
        "id": "o7fRUAy9Se1B",
        "colab": {
          "base_uri": "https://localhost:8080/",
          "height": 207
        },
        "outputId": "58d79a38-ffef-4189-deec-d04efcb9c995"
      },
      "execution_count": 12,
      "outputs": [
        {
          "output_type": "display_data",
          "data": {
            "text/plain": [
              "<Figure size 640x480 with 10 Axes>"
            ],
            "image/png": "[encoded data removed]"
          },
          "metadata": {}
        }
      ]
    }
  ]
}