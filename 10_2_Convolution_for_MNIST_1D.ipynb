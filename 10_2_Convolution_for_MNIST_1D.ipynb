{
  "cells": [
    {
      "cell_type": "markdown",
      "metadata": {
        "id": "t9vk9Elugvmi"
      },
      "source": [
        "# **Notebook 10.2: Convolution for MNIST-1D**\n",
        "\n",
        "This notebook investigates a 1D convolutional network for MNIST-1D as in figure 10.7 and 10.8a.\n",
        "\n",
        "Work through the cells below, running each cell in turn. In various places you will see the words \"TO DO\". Follow the instructions at these places and make predictions about what is going to happen or write code to complete the functions.\n",
        "\n",
        "Contact me at udlbookmail@gmail.com if you find any mistakes or have any suggestions.\n",
        "\n"
      ]
    },
    {
      "cell_type": "code",
      "execution_count": 1,
      "metadata": {
        "colab": {
          "base_uri": "https://localhost:8080/"
        },
        "id": "D5yLObtZCi9J",
        "outputId": "627b87c5-c8be-440a-92ce-ea7d09db20f0"
      },
      "outputs": [
        {
          "name": "stdout",
          "output_type": "stream",
          "text": [
            "Collecting git+https://github.com/greydanus/mnist1d\n",
            "  Cloning https://github.com/greydanus/mnist1d to /tmp/pip-req-build-4m224yzr\n",
            "  Running command git clone --filter=blob:none --quiet https://github.com/greydanus/mnist1d /tmp/pip-req-build-4m224yzr\n",
            "  Resolved https://github.com/greydanus/mnist1d to commit 7878d96082abd200c546a07a4101fa90b30fdf7e\n",
            "  Installing build dependencies ... \u001b[?25l\u001b[?25hdone\n",
            "  Getting requirements to build wheel ... \u001b[?25l\u001b[?25hdone\n",
            "  Preparing metadata (pyproject.toml) ... \u001b[?25l\u001b[?25hdone\n",
            "Requirement already satisfied: requests in /usr/local/lib/python3.10/dist-packages (from mnist1d==0.0.2.post16) (2.32.3)\n",
            "Requirement already satisfied: numpy in /usr/local/lib/python3.10/dist-packages (from mnist1d==0.0.2.post16) (1.26.4)\n",
            "Requirement already satisfied: matplotlib in /usr/local/lib/python3.10/dist-packages (from mnist1d==0.0.2.post16) (3.7.1)\n",
            "Requirement already satisfied: scipy in /usr/local/lib/python3.10/dist-packages (from mnist1d==0.0.2.post16) (1.13.1)\n",
            "Requirement already satisfied: contourpy>=1.0.1 in /usr/local/lib/python3.10/dist-packages (from matplotlib->mnist1d==0.0.2.post16) (1.3.0)\n",
            "Requirement already satisfied: cycler>=0.10 in /usr/local/lib/python3.10/dist-packages (from matplotlib->mnist1d==0.0.2.post16) (0.12.1)\n",
            "Requirement already satisfied: fonttools>=4.22.0 in /usr/local/lib/python3.10/dist-packages (from matplotlib->mnist1d==0.0.2.post16) (4.54.1)\n",
            "Requirement already satisfied: kiwisolver>=1.0.1 in /usr/local/lib/python3.10/dist-packages (from matplotlib->mnist1d==0.0.2.post16) (1.4.7)\n",
            "Requirement already satisfied: packaging>=20.0 in /usr/local/lib/python3.10/dist-packages (from matplotlib->mnist1d==0.0.2.post16) (24.1)\n",
            "Requirement already satisfied: pillow>=6.2.0 in /usr/local/lib/python3.10/dist-packages (from matplotlib->mnist1d==0.0.2.post16) (10.4.0)\n",
            "Requirement already satisfied: pyparsing>=2.3.1 in /usr/local/lib/python3.10/dist-packages (from matplotlib->mnist1d==0.0.2.post16) (3.2.0)\n",
            "Requirement already satisfied: python-dateutil>=2.7 in /usr/local/lib/python3.10/dist-packages (from matplotlib->mnist1d==0.0.2.post16) (2.8.2)\n",
            "Requirement already satisfied: charset-normalizer<4,>=2 in /usr/local/lib/python3.10/dist-packages (from requests->mnist1d==0.0.2.post16) (3.4.0)\n",
            "Requirement already satisfied: idna<4,>=2.5 in /usr/local/lib/python3.10/dist-packages (from requests->mnist1d==0.0.2.post16) (3.10)\n",
            "Requirement already satisfied: urllib3<3,>=1.21.1 in /usr/local/lib/python3.10/dist-packages (from requests->mnist1d==0.0.2.post16) (2.2.3)\n",
            "Requirement already satisfied: certifi>=2017.4.17 in /usr/local/lib/python3.10/dist-packages (from requests->mnist1d==0.0.2.post16) (2024.8.30)\n",
            "Requirement already satisfied: six>=1.5 in /usr/local/lib/python3.10/dist-packages (from python-dateutil>=2.7->matplotlib->mnist1d==0.0.2.post16) (1.16.0)\n",
            "Building wheels for collected packages: mnist1d\n",
            "  Building wheel for mnist1d (pyproject.toml) ... \u001b[?25l\u001b[?25hdone\n",
            "  Created wheel for mnist1d: filename=mnist1d-0.0.2.post16-py3-none-any.whl size=14625 sha256=bb7d3d3c02846873c9511e7cc22e2d7d41eb0d550a71a1ddcd4ff169289c0d12\n",
            "  Stored in directory: /tmp/pip-ephem-wheel-cache-fodbi6wq/wheels/41/95/55/45fcf7d38cfa97e35682da6c5017d4513729131326ce935371\n",
            "Successfully built mnist1d\n",
            "Installing collected packages: mnist1d\n",
            "Successfully installed mnist1d-0.0.2.post16\n"
          ]
        }
      ],
      "source": [
        "# Run this if you're in a Colab to install MNIST 1D repository\n",
        "!pip install git+https://github.com/greydanus/mnist1d"
      ]
    },
    {
      "cell_type": "code",
      "execution_count": 2,
      "metadata": {
        "id": "YrXWAH7sUWvU"
      },
      "outputs": [],
      "source": [
        "import numpy as np\n",
        "import os\n",
        "import torch, torch.nn as nn\n",
        "from torch.utils.data import TensorDataset, DataLoader\n",
        "from torch.optim.lr_scheduler import StepLR\n",
        "import matplotlib.pyplot as plt\n",
        "import mnist1d\n",
        "import random"
      ]
    },
    {
      "cell_type": "code",
      "execution_count": 3,
      "metadata": {
        "colab": {
          "base_uri": "https://localhost:8080/"
        },
        "id": "twI72ZCrCt5z",
        "outputId": "18b8df3c-b16d-4dc3-e8d7-1251d3a68ee1"
      },
      "outputs": [
        {
          "name": "stdout",
          "output_type": "stream",
          "text": [
            "Did or could not load data from ./mnist1d_data.pkl. Rebuilding dataset...\n",
            "Examples in training set: 4000\n",
            "Examples in test set: 1000\n",
            "Length of each example: 40\n"
          ]
        }
      ],
      "source": [
        "args = mnist1d.data.get_dataset_args()\n",
        "data = mnist1d.data.get_dataset(args, path='./mnist1d_data.pkl', download=False, regenerate=False)\n",
        "\n",
        "# The training and test input and outputs are in\n",
        "# data['x'], data['y'], data['x_test'], and data['y_test']\n",
        "print(\"Examples in training set: {}\".format(len(data['y'])))\n",
        "print(\"Examples in test set: {}\".format(len(data['y_test'])))\n",
        "print(\"Length of each example: {}\".format(data['x'].shape[-1]))"
      ]
    },
    {
      "cell_type": "code",
      "execution_count": 4,
      "metadata": {
        "colab": {
          "base_uri": "https://localhost:8080/"
        },
        "id": "8bKADvLHbiV5",
        "outputId": "67b677a9-57b8-4295-8c59-03bddae1e986"
      },
      "outputs": [
        {
          "name": "stdout",
          "output_type": "stream",
          "text": [
            "Train data: 4000 examples (columns), each of which has 40 dimensions (rows)\n",
            "Validation data: 1000 examples (columns), each of which has 40 dimensions (rows)\n"
          ]
        }
      ],
      "source": [
        "# Load in the data\n",
        "train_data_x = data['x'].transpose()\n",
        "train_data_y = data['y']\n",
        "val_data_x = data['x_test'].transpose()\n",
        "val_data_y = data['y_test']\n",
        "# Print out sizes\n",
        "print(\"Train data: %d examples (columns), each of which has %d dimensions (rows)\"%((train_data_x.shape[1],train_data_x.shape[0])))\n",
        "print(\"Validation data: %d examples (columns), each of which has %d dimensions (rows)\"%((val_data_x.shape[1],val_data_x.shape[0])))"
      ]
    },
    {
      "cell_type": "markdown",
      "metadata": {
        "id": "_sFvRDGrl4qe"
      },
      "source": [
        "Define the network"
      ]
    },
    {
      "cell_type": "code",
      "execution_count": 5,
      "metadata": {
        "colab": {
          "base_uri": "https://localhost:8080/"
        },
        "id": "FslroPJJffrh",
        "outputId": "84ae75cb-fe12-4d03-a860-af41713875ad"
      },
      "outputs": [
        {
          "name": "stdout",
          "output_type": "stream",
          "text": [
            "Sequential(\n",
            "  (0): Conv1d(1, 15, kernel_size=(3,), stride=(2,))\n",
            "  (1): ReLU()\n",
            "  (2): Conv1d(15, 15, kernel_size=(3,), stride=(2,))\n",
            "  (3): ReLU()\n",
            "  (4): Conv1d(15, 15, kernel_size=(3,), stride=(2,))\n",
            "  (5): ReLU()\n",
            "  (6): Flatten(start_dim=1, end_dim=-1)\n",
            "  (7): Linear(in_features=60, out_features=10, bias=True)\n",
            ")\n"
          ]
        }
      ],
      "source": [
        "# There are 40 input dimensions and 10 output dimensions for this data\n",
        "# The inputs correspond to the 40 offsets in the MNIST1D template.\n",
        "D_i = 40  # Input dimension\n",
        "D_o = 10  # Output dimension\n",
        "\n",
        "model = nn.Sequential(\n",
        "    # 1. Convolutional layer (input=length 40, 1 channel, kernel size 3, stride 2, padding=\"valid\", 15 output channels)\n",
        "    nn.Conv1d(in_channels=1, out_channels=15, kernel_size=3, stride=2, padding=0),\n",
        "    # 2. ReLU\n",
        "    nn.ReLU(),\n",
        "\n",
        "    # 3. Convolutional layer (input=length 19, 15 channels, kernel size 3, stride 2, padding=\"valid\", 15 output channels)\n",
        "    nn.Conv1d(in_channels=15, out_channels=15, kernel_size=3, stride=2, padding=0),\n",
        "    # 4. ReLU\n",
        "    nn.ReLU(),\n",
        "\n",
        "    # 5. Convolutional layer (input=length 9, 15 channels, kernel size 3, stride 2, padding=\"valid\", 15 output channels)\n",
        "    nn.Conv1d(in_channels=15, out_channels=15, kernel_size=3, stride=2, padding=0),\n",
        "    # 6. ReLU\n",
        "    nn.ReLU(),\n",
        "\n",
        "    # 7. Flatten (converts output shape [4, 15] to length 60)\n",
        "    nn.Flatten(),\n",
        "\n",
        "    # 8. Linear layer (input size=60, output size=10)\n",
        "    nn.Linear(60, D_o)\n",
        ")\n",
        "\n",
        "print(model)\n",
        "\n",
        "\n",
        "\n"
      ]
    },
    {
      "cell_type": "code",
      "execution_count": 6,
      "metadata": {
        "id": "YgLaex1pfhqz"
      },
      "outputs": [],
      "source": [
        "# He initialization of weights\n",
        "def weights_init(layer_in):\n",
        "  if isinstance(layer_in, nn.Linear):\n",
        "    nn.init.kaiming_uniform_(layer_in.weight)\n",
        "    layer_in.bias.data.fill_(0.0)"
      ]
    },
    {
      "cell_type": "code",
      "execution_count": 7,
      "metadata": {
        "colab": {
          "base_uri": "https://localhost:8080/",
          "height": 1000
        },
        "id": "NYw8I_3mmX5c",
        "outputId": "de69f71d-8ade-4b4e-aa42-80b4f06477d2"
      },
      "outputs": [
        {
          "name": "stdout",
          "output_type": "stream",
          "text": [
            "Epoch     0, train loss 2.123081, train error 79.50,  val loss 2.117259, percent error 81.10\n",
            "Epoch     1, train loss 1.616287, train error 66.88,  val loss 1.635782, percent error 68.50\n",
            "Epoch     2, train loss 1.370982, train error 56.47,  val loss 1.384869, percent error 58.70\n",
            "Epoch     3, train loss 1.385051, train error 55.58,  val loss 1.411327, percent error 59.00\n",
            "Epoch     4, train loss 1.259945, train error 51.15,  val loss 1.285244, percent error 53.30\n",
            "Epoch     5, train loss 1.194034, train error 48.67,  val loss 1.207951, percent error 49.90\n",
            "Epoch     6, train loss 1.017668, train error 40.40,  val loss 1.054717, percent error 43.30\n",
            "Epoch     7, train loss 0.919696, train error 37.03,  val loss 0.958201, percent error 38.00\n",
            "Epoch     8, train loss 0.865010, train error 36.33,  val loss 0.927873, percent error 38.50\n",
            "Epoch     9, train loss 0.768018, train error 32.10,  val loss 0.809590, percent error 34.10\n",
            "Epoch    10, train loss 0.737124, train error 30.85,  val loss 0.778156, percent error 32.10\n",
            "Epoch    11, train loss 0.728688, train error 29.28,  val loss 0.761884, percent error 32.20\n",
            "Epoch    12, train loss 0.644832, train error 24.62,  val loss 0.709936, percent error 29.10\n",
            "Epoch    13, train loss 0.614612, train error 24.28,  val loss 0.682778, percent error 28.80\n",
            "Epoch    14, train loss 0.557297, train error 21.15,  val loss 0.644699, percent error 24.80\n",
            "Epoch    15, train loss 0.438892, train error 16.10,  val loss 0.523786, percent error 18.20\n",
            "Epoch    16, train loss 0.382153, train error 13.78,  val loss 0.464442, percent error 16.60\n",
            "Epoch    17, train loss 0.319886, train error 11.07,  val loss 0.425064, percent error 14.90\n",
            "Epoch    18, train loss 0.335080, train error 11.68,  val loss 0.428861, percent error 14.10\n",
            "Epoch    19, train loss 0.310723, train error 11.12,  val loss 0.409373, percent error 14.00\n",
            "Epoch    20, train loss 0.232791, train error 8.35,  val loss 0.365244, percent error 12.50\n",
            "Epoch    21, train loss 0.218578, train error 7.28,  val loss 0.358765, percent error 12.60\n",
            "Epoch    22, train loss 0.196636, train error 6.75,  val loss 0.340629, percent error 10.00\n",
            "Epoch    23, train loss 0.175804, train error 5.85,  val loss 0.324149, percent error 10.40\n",
            "Epoch    24, train loss 0.170558, train error 5.53,  val loss 0.314049, percent error 9.90\n",
            "Epoch    25, train loss 0.229767, train error 8.22,  val loss 0.403531, percent error 12.20\n",
            "Epoch    26, train loss 0.164515, train error 5.57,  val loss 0.338240, percent error 10.80\n",
            "Epoch    27, train loss 0.163833, train error 5.47,  val loss 0.318474, percent error 10.00\n",
            "Epoch    28, train loss 0.144158, train error 4.72,  val loss 0.298588, percent error 10.30\n",
            "Epoch    29, train loss 0.139582, train error 4.85,  val loss 0.305256, percent error 10.40\n",
            "Epoch    30, train loss 0.137556, train error 4.50,  val loss 0.289681, percent error 8.40\n",
            "Epoch    31, train loss 0.119203, train error 3.60,  val loss 0.298233, percent error 8.90\n",
            "Epoch    32, train loss 0.110958, train error 3.65,  val loss 0.306779, percent error 9.20\n",
            "Epoch    33, train loss 0.103958, train error 3.03,  val loss 0.268959, percent error 7.80\n",
            "Epoch    34, train loss 0.117533, train error 3.88,  val loss 0.300950, percent error 8.90\n",
            "Epoch    35, train loss 0.098542, train error 3.12,  val loss 0.278901, percent error 8.40\n",
            "Epoch    36, train loss 0.109338, train error 3.65,  val loss 0.311024, percent error 9.20\n",
            "Epoch    37, train loss 0.155208, train error 5.62,  val loss 0.365777, percent error 10.60\n",
            "Epoch    38, train loss 0.087994, train error 2.80,  val loss 0.298035, percent error 8.60\n",
            "Epoch    39, train loss 0.078447, train error 2.32,  val loss 0.286531, percent error 7.80\n",
            "Epoch    40, train loss 0.069459, train error 1.97,  val loss 0.270705, percent error 7.80\n",
            "Epoch    41, train loss 0.063169, train error 1.57,  val loss 0.278184, percent error 7.80\n",
            "Epoch    42, train loss 0.062409, train error 1.62,  val loss 0.282842, percent error 7.60\n",
            "Epoch    43, train loss 0.058384, train error 1.38,  val loss 0.282303, percent error 7.50\n",
            "Epoch    44, train loss 0.064189, train error 1.80,  val loss 0.298757, percent error 8.50\n",
            "Epoch    45, train loss 0.056844, train error 1.50,  val loss 0.296169, percent error 8.30\n",
            "Epoch    46, train loss 0.067231, train error 2.03,  val loss 0.292096, percent error 8.20\n",
            "Epoch    47, train loss 0.056020, train error 1.50,  val loss 0.298790, percent error 8.40\n",
            "Epoch    48, train loss 0.052019, train error 1.10,  val loss 0.282569, percent error 7.80\n",
            "Epoch    49, train loss 0.059999, train error 1.60,  val loss 0.316678, percent error 8.60\n",
            "Epoch    50, train loss 0.050272, train error 1.28,  val loss 0.290108, percent error 7.80\n",
            "Epoch    51, train loss 0.051288, train error 1.12,  val loss 0.300156, percent error 7.80\n",
            "Epoch    52, train loss 0.049733, train error 1.10,  val loss 0.298649, percent error 7.60\n",
            "Epoch    53, train loss 0.052208, train error 1.35,  val loss 0.323608, percent error 8.60\n",
            "Epoch    54, train loss 0.044701, train error 1.03,  val loss 0.299802, percent error 8.50\n",
            "Epoch    55, train loss 0.045782, train error 0.90,  val loss 0.308750, percent error 7.90\n",
            "Epoch    56, train loss 0.045784, train error 1.00,  val loss 0.311908, percent error 8.40\n",
            "Epoch    57, train loss 0.040863, train error 0.78,  val loss 0.296841, percent error 7.80\n",
            "Epoch    58, train loss 0.041847, train error 0.82,  val loss 0.318009, percent error 8.20\n",
            "Epoch    59, train loss 0.042790, train error 0.82,  val loss 0.310382, percent error 8.10\n",
            "Epoch    60, train loss 0.037145, train error 0.62,  val loss 0.310759, percent error 8.00\n",
            "Epoch    61, train loss 0.036012, train error 0.68,  val loss 0.305805, percent error 7.90\n",
            "Epoch    62, train loss 0.035794, train error 0.72,  val loss 0.308403, percent error 8.00\n",
            "Epoch    63, train loss 0.035864, train error 0.57,  val loss 0.309708, percent error 8.20\n",
            "Epoch    64, train loss 0.034936, train error 0.57,  val loss 0.310165, percent error 7.90\n",
            "Epoch    65, train loss 0.034300, train error 0.60,  val loss 0.312391, percent error 8.30\n",
            "Epoch    66, train loss 0.034235, train error 0.55,  val loss 0.322075, percent error 8.30\n",
            "Epoch    67, train loss 0.035553, train error 0.75,  val loss 0.310718, percent error 8.30\n",
            "Epoch    68, train loss 0.032978, train error 0.45,  val loss 0.319253, percent error 8.30\n",
            "Epoch    69, train loss 0.037058, train error 0.93,  val loss 0.315965, percent error 8.30\n",
            "Epoch    70, train loss 0.033740, train error 0.53,  val loss 0.326906, percent error 8.20\n",
            "Epoch    71, train loss 0.033098, train error 0.53,  val loss 0.323417, percent error 8.40\n",
            "Epoch    72, train loss 0.031641, train error 0.47,  val loss 0.318617, percent error 8.10\n",
            "Epoch    73, train loss 0.031940, train error 0.45,  val loss 0.331435, percent error 8.10\n",
            "Epoch    74, train loss 0.031919, train error 0.50,  val loss 0.326811, percent error 8.30\n",
            "Epoch    75, train loss 0.030881, train error 0.53,  val loss 0.327967, percent error 8.30\n",
            "Epoch    76, train loss 0.030344, train error 0.50,  val loss 0.326938, percent error 8.10\n",
            "Epoch    77, train loss 0.029745, train error 0.45,  val loss 0.325414, percent error 8.20\n",
            "Epoch    78, train loss 0.031749, train error 0.53,  val loss 0.331790, percent error 8.50\n",
            "Epoch    79, train loss 0.030512, train error 0.47,  val loss 0.340808, percent error 8.50\n",
            "Epoch    80, train loss 0.028984, train error 0.43,  val loss 0.327953, percent error 8.10\n",
            "Epoch    81, train loss 0.028258, train error 0.38,  val loss 0.327232, percent error 8.10\n",
            "Epoch    82, train loss 0.028327, train error 0.45,  val loss 0.326491, percent error 8.30\n",
            "Epoch    83, train loss 0.028199, train error 0.47,  val loss 0.329487, percent error 8.30\n",
            "Epoch    84, train loss 0.028046, train error 0.43,  val loss 0.326918, percent error 8.30\n",
            "Epoch    85, train loss 0.027976, train error 0.40,  val loss 0.325281, percent error 8.10\n",
            "Epoch    86, train loss 0.027388, train error 0.38,  val loss 0.330533, percent error 8.10\n",
            "Epoch    87, train loss 0.027425, train error 0.38,  val loss 0.330149, percent error 8.00\n",
            "Epoch    88, train loss 0.027863, train error 0.53,  val loss 0.328289, percent error 8.00\n",
            "Epoch    89, train loss 0.027180, train error 0.43,  val loss 0.328368, percent error 8.30\n",
            "Epoch    90, train loss 0.027442, train error 0.45,  val loss 0.329872, percent error 8.30\n",
            "Epoch    91, train loss 0.027223, train error 0.35,  val loss 0.337104, percent error 8.40\n",
            "Epoch    92, train loss 0.026602, train error 0.43,  val loss 0.329503, percent error 8.30\n",
            "Epoch    93, train loss 0.026260, train error 0.35,  val loss 0.334206, percent error 8.00\n",
            "Epoch    94, train loss 0.026120, train error 0.40,  val loss 0.332285, percent error 8.00\n",
            "Epoch    95, train loss 0.026861, train error 0.32,  val loss 0.339819, percent error 8.20\n",
            "Epoch    96, train loss 0.026155, train error 0.35,  val loss 0.331471, percent error 8.20\n",
            "Epoch    97, train loss 0.025639, train error 0.35,  val loss 0.334987, percent error 8.10\n",
            "Epoch    98, train loss 0.026014, train error 0.38,  val loss 0.331791, percent error 8.10\n",
            "Epoch    99, train loss 0.025355, train error 0.35,  val loss 0.335877, percent error 8.20\n"
          ]
        },
        {
          "data": {
            "image/png": "[encoded data removed]",
            "text/plain": [
              "<Figure size 640x480 with 1 Axes>"
            ]
          },
          "metadata": {},
          "output_type": "display_data"
        }
      ],
      "source": [
        "# choose cross entropy loss function (equation 5.24 in the loss notes)\n",
        "loss_function = nn.CrossEntropyLoss()\n",
        "# construct SGD optimizer and initialize learning rate and momentum\n",
        "optimizer = torch.optim.SGD(model.parameters(), lr = 0.05, momentum=0.9)\n",
        "# object that decreases learning rate by half every 20 epochs\n",
        "scheduler = StepLR(optimizer, step_size=20, gamma=0.5)\n",
        "# create 100 dummy data points and store in data loader class\n",
        "x_train = torch.tensor(train_data_x.transpose().astype('float32'))\n",
        "y_train = torch.tensor(train_data_y.astype('long')).long()\n",
        "x_val= torch.tensor(val_data_x.transpose().astype('float32'))\n",
        "y_val = torch.tensor(val_data_y.astype('long')).long()\n",
        "\n",
        "# load the data into a class that creates the batches\n",
        "data_loader = DataLoader(TensorDataset(x_train,y_train), batch_size=100, shuffle=True, worker_init_fn=np.random.seed(1))\n",
        "\n",
        "# Initialize model weights\n",
        "model.apply(weights_init)\n",
        "\n",
        "# loop over the dataset n_epoch times\n",
        "n_epoch = 100\n",
        "# store the loss and the % correct at each epoch\n",
        "losses_train = np.zeros((n_epoch))\n",
        "errors_train = np.zeros((n_epoch))\n",
        "losses_val = np.zeros((n_epoch))\n",
        "errors_val = np.zeros((n_epoch))\n",
        "\n",
        "for epoch in range(n_epoch):\n",
        "  # loop over batches\n",
        "  for i, data in enumerate(data_loader):\n",
        "    # retrieve inputs and labels for this batch\n",
        "    x_batch, y_batch = data\n",
        "    # zero the parameter gradients\n",
        "    optimizer.zero_grad()\n",
        "    # forward pass -- calculate model output\n",
        "    pred = model(x_batch[:,None,:])\n",
        "    # compute the loss\n",
        "    loss = loss_function(pred, y_batch)\n",
        "    # backward pass\n",
        "    loss.backward()\n",
        "    # SGD update\n",
        "    optimizer.step()\n",
        "\n",
        "  # Run whole dataset to get statistics -- normally wouldn't do this\n",
        "  pred_train = model(x_train[:,None,:])\n",
        "  pred_val = model(x_val[:,None,:])\n",
        "  _, predicted_train_class = torch.max(pred_train.data, 1)\n",
        "  _, predicted_val_class = torch.max(pred_val.data, 1)\n",
        "  errors_train[epoch] = 100 - 100 * (predicted_train_class == y_train).float().sum() / len(y_train)\n",
        "  errors_val[epoch]= 100 - 100 * (predicted_val_class == y_val).float().sum() / len(y_val)\n",
        "  losses_train[epoch] = loss_function(pred_train, y_train).item()\n",
        "  losses_val[epoch]= loss_function(pred_val, y_val).item()\n",
        "  print(f'Epoch {epoch:5d}, train loss {losses_train[epoch]:.6f}, train error {errors_train[epoch]:3.2f},  val loss {losses_val[epoch]:.6f}, percent error {errors_val[epoch]:3.2f}')\n",
        "\n",
        "  # tell scheduler to consider updating learning rate\n",
        "  scheduler.step()\n",
        "\n",
        "# Plot the results\n",
        "fig, ax = plt.subplots()\n",
        "ax.plot(errors_train,'r-',label='train')\n",
        "ax.plot(errors_val,'b-',label='validation')\n",
        "ax.set_ylim(0,100); ax.set_xlim(0,n_epoch)\n",
        "ax.set_xlabel('Epoch'); ax.set_ylabel('Error')\n",
        "ax.set_title('Part I: Validation Result %3.2f'%(errors_val[-1]))\n",
        "ax.legend()\n",
        "plt.show()"
      ]
    }
  ],
  "metadata": {
    "colab": {
      "provenance": []
    },
    "kernelspec": {
      "display_name": "Python 3",
      "name": "python3"
    },
    "language_info": {
      "name": "python",
      "version": "3.12.6"
    }
  },
  "nbformat": 4,
  "nbformat_minor": 0
}
